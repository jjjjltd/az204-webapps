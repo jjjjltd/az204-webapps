{
 "cells": [
  {
   "cell_type": "markdown",
   "metadata": {},
   "source": [
    "### AZ-204 Notebook. \n",
    "\n",
    "I'm using this repository to track Code snippets from Microsoft training:\n",
    "https://learn.microsoft.com/en-us/training/modules/introduction-to-azure-app-service/"
   ]
  },
  {
   "cell_type": "markdown",
   "metadata": {},
   "source": [
    "# Exercise:  Create static web app, update HTML and Re-Deploy\n",
    "https://learn.microsoft.com/en-us/certifications/exams/az-204/\n",
    "* Create sandbox\n",
    "* Bash Commands:\n",
    "    * mkdir htmlapp\n",
    "    * cd htmlapp\n",
    "    * git clone https://github.com/Azure-Samples/html-docs-hello-world.git\n",
    "    * resourceGroup=$(az group list --query \"[].{id:name}\" -o tsv)appName=az204app$RANDOM\n",
    "    * cd html-docs-hello-world\n",
    "    ==> Output:\n",
    "    {\n",
    "        \"URL\": \"http://az204app8070.azurewebsites.net\",\n",
    "        \"appserviceplan\": \"johnjoyce90_asp_9999\",\n",
    "        \"location\": \"eastus\",\n",
    "        \"name\": \"az204app8070\",\n",
    "        \"os\": \"Windows\",\n",
    "        \"resourcegroup\": \"learn-475e0188-5bba-4b66-b011-46141fac25db\",\n",
    "        \"runtime_version\": \"-\",\n",
    "        \"runtime_version_detected\": \"-\",\n",
    "        \"sku\": \"FREE\",\n",
    "        \"src_path\": \"//home//johnjoyce90//htmlapp//html-docs-hello-world\"\n",
    "    }\n",
    "    * Go to URL:  http://az204app8070.azurewebsites.net\n",
    "    * Edit the html (from bash):  code index.html\n",
    "    * Redeploy, with changed code:  az webapp up -g $resourceGroup -n $appName --html\n",
    "\n"
   ]
  },
  {
   "cell_type": "markdown",
   "metadata": {},
   "source": []
  },
  {
   "cell_type": "code",
   "execution_count": null,
   "metadata": {},
   "outputs": [],
   "source": []
  }
 ],
 "metadata": {
  "kernelspec": {
   "display_name": "Python 3",
   "language": "python",
   "name": "python3"
  },
  "language_info": {
   "name": "python",
   "version": "3.10.4"
  },
  "orig_nbformat": 4
 },
 "nbformat": 4,
 "nbformat_minor": 2
}
